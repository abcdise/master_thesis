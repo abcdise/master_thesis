{
  "nbformat": 4,
  "nbformat_minor": 0,
  "metadata": {
    "colab": {
      "provenance": [],
      "authorship_tag": "ABX9TyMZ4E1Zh8PVLxFe6gPzq9ZN",
      "include_colab_link": true
    },
    "kernelspec": {
      "name": "python3",
      "display_name": "Python 3"
    },
    "language_info": {
      "name": "python"
    }
  },
  "cells": [
    {
      "cell_type": "markdown",
      "metadata": {
        "id": "view-in-github",
        "colab_type": "text"
      },
      "source": [
        "<a href=\"https://colab.research.google.com/github/abcdise/master_thesis/blob/main/MasterThesis.ipynb\" target=\"_parent\"><img src=\"https://colab.research.google.com/assets/colab-badge.svg\" alt=\"Open In Colab\"/></a>"
      ]
    },
    {
      "cell_type": "code",
      "execution_count": 2,
      "metadata": {
        "id": "8yyulAS8HKqm"
      },
      "outputs": [],
      "source": [
        "import numpy as np\n",
        "import tensorflow as tf"
      ]
    },
    {
      "cell_type": "code",
      "source": [
        "class EulerMaruyama:\n",
        "\n",
        "  # ==== Public ==== #\n",
        "\n",
        "  # Constructor\n",
        "  def __init__(self, start_time: float, end_time: float, num_intervals: int, \\\n",
        "               diffusion_dimension=1, num_noises=1, num_paths=10000, only_gaussian_noise=True):\n",
        "    self.__start_time = start_time\n",
        "    self.__end_time = end_time\n",
        "    self.__num_intervals = num_intervals\n",
        "    self.__only_gaussian_noise = only_gaussian_noise\n",
        "    self.__num_paths = num_paths\n",
        "    self.__time_intervals = np.linspace(start_time,\n",
        "                                       end_time,\n",
        "                                       num=num_intervals+1)\n",
        "\n",
        "  # Set and get private attributes\n",
        "  def set_start_time(self, start_time):\n",
        "    self.__start_time = start_time\n",
        "\n",
        "  def set_end_time(self, end_time):\n",
        "    self.__end_time = end_time\n",
        "\n",
        "  def set_num_intervals(self, num_intervals):\n",
        "    self.__num_intervals = num_intervals\n",
        "\n",
        "  def set_time_intervals(self, time_intervals):\n",
        "    self.__time_intervals = time_intervals\n",
        "\n",
        "  def set_dimension(self, d):\n",
        "    self.__dimension = d\n",
        "\n",
        "  def set_num_paths(self, num_paths):\n",
        "    self.__num_paths = num_paths\n",
        "\n",
        "  def get_num_intervals(self):\n",
        "    return self.__num_intervals\n",
        "\n",
        "  def get_time_intervals(self):\n",
        "    return self.__time_intervals\n",
        "\n",
        "  def get_start_time(self):\n",
        "    return self.__start_time\n",
        "\n",
        "  def get_end_time(self):\n",
        "    return self.__end_time\n",
        "\n",
        "  def get_dimension(self):\n",
        "    return self.__dimension\n",
        "\n",
        "  def getNumPaths(self):\n",
        "    return self.__num_paths\n",
        "\n",
        "  # Public methods\n",
        "\n",
        "\n",
        "\n",
        "\n",
        "  # ==== Private ==== #\n",
        "\n",
        "  # Private attributes\n",
        "  __start_time = None\n",
        "  __end_time = None\n",
        "  __num_intervals = None\n",
        "  __time_intervals = None\n",
        "  __dimension = None\n",
        "  __num_paths = None\n",
        "  __num_noises = None\n",
        "  __noise = None\n",
        "\n",
        "  # Private methods\n",
        "  def __update_noise(self):\n",
        "    self.__noise = np.random.multivariate_normal(mean=np.zeros(self.__num_noises),\n",
        "                                                 cov=np.eye(self.__num_noises),\n",
        "                                                 size=(self.__num_paths, self.__time_intervals)\n",
        "    # Transpose the matrix so that each column is a vector at a time step\n",
        "    self.__noise = np.transpose(self.__noise, (0, 2, 1))\n",
        "    for i in range(self.__num_intervals):\n",
        "      h = self.__time_intervals[i+1] - self.__time_intervals[i]\n",
        "      self.__noise[:,:,i] = np.sqrt(h) * self.__noise[:,:,i]\n",
        "\n",
        "  # Generate a path of the diffusion\n",
        "  def __generate_path(self, diffusion, noise):\n",
        "    # Initialise the matrix to return. Each column is the state of the diffusion\n",
        "    # at the time\n",
        "    ret = np.zeros(shape=(self.__dimension, self.__num_intervals+1))\n",
        "    # Set the starting point of the diffusion\n",
        "    x_0 = diffusion.get_starting_point()\n",
        "    if x_0.size < self.__dimension:\n",
        "      ret[:,0] = x_0 * np.ones(self.__dimension)\n",
        "    else:\n",
        "      ret[:,0] = x_0\n",
        "    # Simulate the following states\n",
        "    for i in range(1, self._num_intervals+1):\n",
        "      h = self.__time_intervals[i] - self.__time_intervals[i-1]\n",
        "      delta_drift = diffusion.drift(self.__time_intervals[i-1], ret[:,i-1]) * h\n",
        "      delta_diffusion = np.matmul(diffusion.diffusion(self.__time[i-1], ret[:,i-1]),\n",
        "                                  noise[:,i])\n",
        "      ret[:,i] = ret[:,i-1] + delta_drift + delta_diffusion\n",
        "\n",
        "\n",
        "\n"
      ],
      "metadata": {
        "id": "NgliujGbrQzD"
      },
      "execution_count": 11,
      "outputs": []
    },
    {
      "cell_type": "code",
      "source": [
        "class ItoDiffusion:\n",
        "\n",
        "  # ==== Public ==== #\n",
        "\n",
        "  # Constructor\n",
        "  def __init__(self, drift_parameter, diffusion_parameter, starting_point):\n",
        "    self.drift = drift_parameter\n",
        "    self.diffusion = diffusion_parameter\n",
        "    self.__starting_point = starting_point\n",
        "\n",
        "  def get_starting_point(self):\n",
        "    return self.__starting_point\n",
        "\n",
        "  def simulate(self, solver):\n",
        "    return 0;\n",
        "\n",
        "  # ==== Private ==== #\n",
        "  __starting_point = None\n",
        "\n"
      ],
      "metadata": {
        "id": "tAeVkrCrReGF"
      },
      "execution_count": 11,
      "outputs": []
    },
    {
      "cell_type": "code",
      "source": [
        "mean = np.zeros(2)\n",
        "cov = np.eye(2)\n",
        "x = np.random.multivariate_normal(mean, cov, size=(5,10))\n",
        "x"
      ],
      "metadata": {
        "id": "sAMg33zkxWin",
        "outputId": "84c4cbb4-7ef3-4c19-e710-3a3f7e54512f",
        "colab": {
          "base_uri": "https://localhost:8080/"
        }
      },
      "execution_count": 15,
      "outputs": [
        {
          "output_type": "execute_result",
          "data": {
            "text/plain": [
              "array([[[ 0.79780111,  1.66021177],\n",
              "        [ 1.18509773, -0.31092272],\n",
              "        [-0.25403988,  0.92206736],\n",
              "        [ 1.46984444,  0.61419723],\n",
              "        [ 0.17544047,  0.46894687],\n",
              "        [ 0.77925091,  1.37854936],\n",
              "        [ 0.52944539,  1.19557499],\n",
              "        [-0.08019091,  0.41198668],\n",
              "        [-1.37564578,  1.45525537],\n",
              "        [-0.51872947, -0.45121576]],\n",
              "\n",
              "       [[-0.73794356, -1.06610458],\n",
              "        [ 0.22064325, -1.18660787],\n",
              "        [-0.31125254,  0.95694507],\n",
              "        [-0.0428399 , -0.97590724],\n",
              "        [ 1.71761382, -0.81355346],\n",
              "        [ 1.50930983,  1.30760236],\n",
              "        [-1.0641569 ,  0.2614976 ],\n",
              "        [-1.04642188, -1.9354022 ],\n",
              "        [ 0.72255075, -0.21604844],\n",
              "        [ 0.85414751,  1.19390457]],\n",
              "\n",
              "       [[-0.14035204,  0.08043057],\n",
              "        [ 0.26889207,  0.56633301],\n",
              "        [-0.50743966,  1.13133591],\n",
              "        [-0.19601472, -0.51077715],\n",
              "        [-1.69441931, -1.18913459],\n",
              "        [ 0.60331536, -0.76521012],\n",
              "        [-1.06454672, -0.42619975],\n",
              "        [-3.40619978, -1.54789252],\n",
              "        [-0.61996134, -1.47515879],\n",
              "        [ 0.54132322,  0.34716426]],\n",
              "\n",
              "       [[-0.52618302, -0.31714277],\n",
              "        [ 1.95882272, -1.58751478],\n",
              "        [ 0.59922912,  1.20818745],\n",
              "        [-0.57545323, -0.97773055],\n",
              "        [-2.02607972,  1.41534628],\n",
              "        [-1.18920069, -3.30181713],\n",
              "        [-0.31764178, -2.2319644 ],\n",
              "        [-0.51105163, -0.37325385],\n",
              "        [-0.28310355,  1.11384948],\n",
              "        [-0.74542745,  0.31724423]],\n",
              "\n",
              "       [[-1.38096934,  0.00816904],\n",
              "        [ 1.64912147,  0.73184285],\n",
              "        [-2.35371274,  0.41424362],\n",
              "        [-1.0089521 ,  1.02465519],\n",
              "        [ 0.79235401,  0.10357637],\n",
              "        [ 0.90330073, -1.32371529],\n",
              "        [-0.93685687, -0.77449468],\n",
              "        [ 0.57314192,  1.02078755],\n",
              "        [-0.4857511 ,  0.46428656],\n",
              "        [-0.39878663,  1.88433037]]])"
            ]
          },
          "metadata": {},
          "execution_count": 15
        }
      ]
    }
  ]
}