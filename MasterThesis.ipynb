{
  "nbformat": 4,
  "nbformat_minor": 0,
  "metadata": {
    "colab": {
      "provenance": [],
      "authorship_tag": "ABX9TyN9ejwWwk9h8VjlLBBeokfF",
      "include_colab_link": true
    },
    "kernelspec": {
      "name": "python3",
      "display_name": "Python 3"
    },
    "language_info": {
      "name": "python"
    }
  },
  "cells": [
    {
      "cell_type": "markdown",
      "metadata": {
        "id": "view-in-github",
        "colab_type": "text"
      },
      "source": [
        "<a href=\"https://colab.research.google.com/github/abcdise/master_thesis/blob/main/MasterThesis.ipynb\" target=\"_parent\"><img src=\"https://colab.research.google.com/assets/colab-badge.svg\" alt=\"Open In Colab\"/></a>"
      ]
    },
    {
      "cell_type": "code",
      "execution_count": 2,
      "metadata": {
        "id": "8yyulAS8HKqm"
      },
      "outputs": [],
      "source": [
        "import numpy as np\n",
        "import tensorflow as tf"
      ]
    },
    {
      "cell_type": "code",
      "source": [
        "class EulerMaruyama:\n",
        "\n",
        "  # ==== Public ==== #\n",
        "\n",
        "  # Constructor\n",
        "  def __init__(self, start_time: float, end_time: float, num_intervals: int, \\\n",
        "               diffusion_dimension=1, num_noises=1, num_paths=10000, only_gaussian_noise=True):\n",
        "    self.__start_time = start_time\n",
        "    self.__end_time = end_time\n",
        "    self.__num_intervals = num_intervals\n",
        "    self.__only_gaussian_noise = only_gaussian_noise\n",
        "    self.__num_paths = num_paths\n",
        "    self.__time_intervals = np.linspace(start_time,\n",
        "                                       end_time,\n",
        "                                       num=num_intervals+1)\n",
        "    self.__paths = np.zeros(size=(num_paths, num_intervals+1, diffusion_dimension))\n",
        "\n",
        "  # Set and get private attributes\n",
        "  def set_start_time(self, start_time):\n",
        "    self.__start_time = start_time\n",
        "\n",
        "  def set_end_time(self, end_time):\n",
        "    self.__end_time = end_time\n",
        "\n",
        "  def set_num_intervals(self, num_intervals):\n",
        "    self.__num_intervals = num_intervals\n",
        "\n",
        "  def set_time_intervals(self, time_intervals):\n",
        "    self.__time_intervals = time_intervals\n",
        "\n",
        "  def set_dimension(self, d):\n",
        "    self.__dimension = d\n",
        "\n",
        "  def set_num_paths(self, num_paths):\n",
        "    self.__num_paths = num_paths\n",
        "\n",
        "  def get_num_intervals(self):\n",
        "    return self.__num_intervals\n",
        "\n",
        "  def get_time_intervals(self):\n",
        "    return self.__time_intervals\n",
        "\n",
        "  def get_start_time(self):\n",
        "    return self.__start_time\n",
        "\n",
        "  def get_end_time(self):\n",
        "    return self.__end_time\n",
        "\n",
        "  def get_dimension(self):\n",
        "    return self.__dimension\n",
        "\n",
        "  def getNumPaths(self):\n",
        "    return self.__num_paths\n",
        "\n",
        "  def getPaths(self):\n",
        "    return self.__paths\n",
        "\n",
        "  # Public methods\n",
        "  def generate_paths(self, diffusion){\n",
        "      for i in range(self.__num_paths){\n",
        "          self.__paths[i] = self.__generate_path(diffusion, self.__noise[i])\n",
        "      }\n",
        "  }\n",
        "\n",
        "\n",
        "\n",
        "\n",
        "  # ==== Private ==== #\n",
        "\n",
        "  # Private attributes\n",
        "  __start_time = None\n",
        "  __end_time = None\n",
        "  __num_intervals = None\n",
        "  __time_intervals = None\n",
        "  __dimension = None\n",
        "  __num_paths = None\n",
        "  __num_noises = None\n",
        "  __noise = None\n",
        "  __paths = None\n",
        "\n",
        "  # Private methods\n",
        "  def __update_noise(self):\n",
        "    self.__noise = np.random.multivariate_normal(mean=np.zeros(self.__num_noises),\n",
        "                                                 cov=np.eye(self.__num_noises),\n",
        "                                                 size=(self.__num_paths, self.__time_intervals))\n",
        "\n",
        "    for i in range(self.__num_intervals):\n",
        "      h = self.__time_intervals[i+1] - self.__time_intervals[i]\n",
        "      self.__noise[:,i,:] *= np.sqrt(h)\n",
        "\n",
        "  # Generate a path of the diffusion\n",
        "  def __generate_path(self, diffusion, noise):\n",
        "    ret = np.zeros(shape=(self.__num_intervals+1, self.__dimension))\n",
        "    # Set the starting point of the diffusion\n",
        "    x_0 = diffusion.get_starting_point()\n",
        "    if x_0.size < self.__dimension:\n",
        "      ret[0] = x_0 * np.ones(self.__dimension)\n",
        "    else:\n",
        "      ret[0] = x_0\n",
        "    # Simulate the following states\n",
        "    for i in range(1, self._num_intervals+1):\n",
        "      h = self.__time_intervals[i] - self.__time_intervals[i-1]\n",
        "      delta_drift = diffusion.drift(self.__time_intervals[i-1], ret[i-1]) * h\n",
        "      delta_diffusion = np.matmul(diffusion.diffusion(self.__time[i-1], ret[i-1]),\n",
        "                                  noise[i])\n",
        "      ret[i] = ret[i-1] + delta_drift + delta_diffusion\n",
        "    return ret\n",
        "\n",
        "\n",
        "\n"
      ],
      "metadata": {
        "id": "NgliujGbrQzD"
      },
      "execution_count": 11,
      "outputs": []
    },
    {
      "cell_type": "code",
      "source": [
        "class ItoDiffusion:\n",
        "\n",
        "  # ==== Public ==== #\n",
        "\n",
        "  # Constructor\n",
        "  def __init__(self, drift_parameter, diffusion_parameter, starting_point):\n",
        "    self.drift = drift_parameter\n",
        "    self.diffusion = diffusion_parameter\n",
        "    self.__starting_point = starting_point\n",
        "\n",
        "  def get_starting_point(self):\n",
        "    return self.__starting_point\n",
        "\n",
        "  def simulate(self, solver):\n",
        "    return 0;\n",
        "\n",
        "  # ==== Private ==== #\n",
        "  __starting_point = None\n",
        "\n"
      ],
      "metadata": {
        "id": "tAeVkrCrReGF"
      },
      "execution_count": 11,
      "outputs": []
    },
    {
      "cell_type": "code",
      "source": [
        "mean = np.zeros(2)\n",
        "cov = np.eye(2)\n",
        "x = np.random.multivariate_normal(mean, cov, size=(5,10))\n",
        "x[:, 1, :] * 2"
      ],
      "metadata": {
        "colab": {
          "base_uri": "https://localhost:8080/"
        },
        "id": "sAMg33zkxWin",
        "outputId": "be45e575-1d0f-48cd-851e-41d77b09f1c0"
      },
      "execution_count": 3,
      "outputs": [
        {
          "output_type": "execute_result",
          "data": {
            "text/plain": [
              "array([[ 2.3033826 ,  1.69429731],\n",
              "       [ 0.62208391, -0.58793983],\n",
              "       [ 3.80730913, -2.133019  ],\n",
              "       [ 0.49997592,  0.08766692],\n",
              "       [-1.47053935, -0.02997737]])"
            ]
          },
          "metadata": {},
          "execution_count": 3
        }
      ]
    }
  ]
}